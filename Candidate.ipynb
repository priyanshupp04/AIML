{
 "cells": [
  {
   "cell_type": "code",
   "execution_count": 2,
   "id": "2d697fff",
   "metadata": {},
   "outputs": [],
   "source": [
    "import csv"
   ]
  },
  {
   "cell_type": "code",
   "execution_count": 3,
   "id": "813b5340",
   "metadata": {},
   "outputs": [
    {
     "data": {
      "text/plain": [
       "[('Sunny', 'Warm', 'Normal', 'Strong', 'Warm', 'Same', 'Y'),\n",
       " ('Sunny', 'Warm', 'High', 'Strong', 'Warm', 'Same', 'Y'),\n",
       " ('Rainy', 'Cold', 'High', 'Strong', 'Warm', 'Change', 'N'),\n",
       " ('Sunny', 'Warm', 'High', 'Strong', 'Cold', 'Change', 'Y')]"
      ]
     },
     "execution_count": 3,
     "metadata": {},
     "output_type": "execute_result"
    }
   ],
   "source": [
    "pd = open('datasets/trainingexamples.csv')\n",
    "with pd  as csvFile:\n",
    "    data = [tuple(line) for line in csv.reader(csvFile)]\n",
    "data"
   ]
  },
  {
   "cell_type": "code",
   "execution_count": 4,
   "id": "839eca95",
   "metadata": {},
   "outputs": [],
   "source": [
    "def Domain(): #All possible unique values an attribute/field can hold.\n",
    "    D =[]\n",
    "    for i in range(len(data[0])):\n",
    "        D.append(list(set([ele[i] for ele in data])))\n",
    "    return D"
   ]
  },
  {
   "cell_type": "code",
   "execution_count": 5,
   "id": "93b64858",
   "metadata": {},
   "outputs": [],
   "source": [
    "D = Domain()"
   ]
  },
  {
   "cell_type": "code",
   "execution_count": 6,
   "id": "c95e9d44",
   "metadata": {},
   "outputs": [
    {
     "data": {
      "text/plain": [
       "[['Sunny', 'Rainy'],\n",
       " ['Warm', 'Cold'],\n",
       " ['High', 'Normal'],\n",
       " ['Strong'],\n",
       " ['Warm', 'Cold'],\n",
       " ['Change', 'Same'],\n",
       " ['Y', 'N']]"
      ]
     },
     "execution_count": 6,
     "metadata": {},
     "output_type": "execute_result"
    }
   ],
   "source": [
    "D"
   ]
  },
  {
   "cell_type": "code",
   "execution_count": 7,
   "id": "fea595ee",
   "metadata": {},
   "outputs": [],
   "source": [
    "def consistant(h1, h2):\n",
    "    for x, y in zip(h1, h2):\n",
    "        if not (x == \"?\" or (x != \"ɸ\" and (x == y or y == \"ɸ\"))):\n",
    "            return False\n",
    "    return True"
   ]
  },
  {
   "cell_type": "code",
   "execution_count": 8,
   "id": "cc6d27cb",
   "metadata": {},
   "outputs": [
    {
     "name": "stdout",
     "output_type": "stream",
     "text": [
      "\n",
      " G[0]: {('?', '?', '?', '?', '?', '?')}\n",
      "\n",
      " S[0]: ['ɸ', 'ɸ', 'ɸ', 'ɸ', 'ɸ', 'ɸ']\n",
      "\n",
      " G[1]: {('?', '?', '?', '?', '?', '?')}\n",
      "\n",
      " S[1]: ['Sunny', 'Warm', 'Normal', 'Strong', 'Warm', 'Same']\n",
      "\n",
      " G[2]: {('?', '?', '?', '?', '?', '?')}\n",
      "\n",
      " S[2]: ['Sunny', 'Warm', '?', 'Strong', 'Warm', 'Same']\n",
      "\n",
      " G[3]: {('Sunny', '?', '?', '?', '?', '?'), ('?', 'Warm', '?', '?', '?', '?'), ('?', '?', '?', '?', '?', 'Same')}\n",
      "\n",
      " S[3]: ['Sunny', 'Warm', '?', 'Strong', 'Warm', 'Same']\n",
      "\n",
      " G[4]: {('Sunny', '?', '?', '?', '?', '?'), ('?', 'Warm', '?', '?', '?', '?')}\n",
      "\n",
      " S[4]: ['Sunny', 'Warm', '?', 'Strong', '?', '?']\n"
     ]
    }
   ],
   "source": [
    "def candidate_elimination():\n",
    "    G = {('?',)*(len(data[0]) - 1),}\n",
    "    S = ['ɸ']*(len(data[0]) - 1)\n",
    "    no = 0\n",
    "    print(\"\\n G[{0}]:\".format(no), G)\n",
    "    print(\"\\n S[{0}]:\".format(no), S)\n",
    "    for item in data:\n",
    "        no += 1\n",
    "        inp , res = item[:-1] , item[-1]\n",
    "        \n",
    "        if res in \"Yy\": \n",
    "            i = 0 \t\t#Remove from G any inconsistancy\n",
    "            G = {g for g in G if consistant(g,inp)}\n",
    "            for s,x in zip(S,inp):   \t\t# similar to find-s\n",
    "                if not s==x:\n",
    "                    S[i] = '?' if s != 'ɸ' else x\n",
    "                i += 1\n",
    "        else:\n",
    "            S = S \t\t\t#unaffected for this eg.\n",
    "            Gprev = G.copy()\n",
    "            for g in Gprev: \t\t#for each hypothesis\n",
    "                if g not in G: \t\t# if g gets removed.\n",
    "                    continue\n",
    "                for i in range(len(g)):  \t\t#for every fiels/atribute\n",
    "                    if g[i] == \"?\":  \t\t\t#if it can be more generalized.\n",
    "                        for val in D[i]: \t\t# for each possible values in domain.\n",
    "                            if inp[i] != val and val == S[i]: \t\t# check if this possible value in domain is applicable.\n",
    "                                g_new = g[:i] + (val,) + g[i+1:]\n",
    "                                G.add(g_new)\n",
    "                    else:\n",
    "                        G.add(g)  \t\t\t\t# difference_update() used to remove the items from the set which is passed to it.            \n",
    "                G.difference_update([h for h in G if\n",
    "                                 any([consistant(h, g1) for g1 in G if h != g1])])\n",
    "        print(\"\\n G[{0}]:\".format(no), G)\n",
    "        print(\"\\n S[{0}]:\".format(no), S)\n",
    "candidate_elimination()"
   ]
  },
  {
   "cell_type": "code",
   "execution_count": null,
   "id": "f3b8d1d7",
   "metadata": {},
   "outputs": [],
   "source": []
  }
 ],
 "metadata": {
  "kernelspec": {
   "display_name": "Python 3",
   "language": "python",
   "name": "python3"
  },
  "language_info": {
   "codemirror_mode": {
    "name": "ipython",
    "version": 3
   },
   "file_extension": ".py",
   "mimetype": "text/x-python",
   "name": "python",
   "nbconvert_exporter": "python",
   "pygments_lexer": "ipython3",
   "version": "3.8.8"
  }
 },
 "nbformat": 4,
 "nbformat_minor": 5
}
